{
 "cells": [
  {
   "cell_type": "code",
   "execution_count": 22,
   "metadata": {},
   "outputs": [
    {
     "name": "stdout",
     "output_type": "stream",
     "text": [
      "The autoreload extension is already loaded. To reload it, use:\n",
      "  %reload_ext autoreload\n"
     ]
    }
   ],
   "source": [
    "import weyl_conductance as wc\n",
    "import numpy as np\n",
    "import matplotlib.pyplot as plt\n",
    "import matplotlib as mpl\n",
    "import seaborn as sns\n",
    "from ipywidgets import interact\n",
    "sns.set_style(\"white\")\n",
    "%load_ext autoreload\n",
    "%autoreload 2"
   ]
  },
  {
   "cell_type": "markdown",
   "metadata": {},
   "source": [
    "The current is\n",
    "\\begin{equation}\n",
    "\\begin{aligned}\n",
    "I_{\\sigma}=-4 \\pi e r^{2}\\langle\\sigma| \\sum_{k q}\\{& u_{\\boldsymbol{k}}^{2}\\left[n_{F}\\left(\\xi_{q}\\right)-n_{F}\\left(\\xi_{k}\\right)\\right] \\delta\\left(-e V-\\xi^{-}\\right) \\\\\n",
    "&\\left.+v_{k}^{2}\\left[n_{F}\\left(\\xi_{q}\\right)-n_{F}\\left(-\\xi_{k}\\right)\\right] \\delta\\left(-e V-\\xi^{+}\\right)\\right\\}|\\sigma\\rangle\n",
    "\\end{aligned}\n",
    "\\end{equation}\n",
    "which leads to a conductance $\\frac{dI}{dV}$ near the Weyl node of\n",
    "\\begin{equation}\n",
    "G\\left(k_{x}, k_{z}\\right)=\\frac{e^{2} r^{2}}{h} \\frac{g_{1}}{\\sqrt{g_{1}^{2}+h_{z}^{2}} \\sqrt{|h_0| }}\n",
    "\\end{equation}\n",
    "for electrons polarized in $x$.\n",
    "\n",
    "Each node has a distinct chirality, $k_w = \\chi \\frac{\\pi}{2}$. So to nudge within the Fermi arc, take $k_z = -\\chi \\delta$ with $\\delta > 0$. Here, $k_z$ is $0$ at the weyl node."
   ]
  },
  {
   "cell_type": "code",
   "execution_count": 27,
   "metadata": {},
   "outputs": [
    {
     "data": {
      "application/vnd.jupyter.widget-view+json": {
       "model_id": "046ac2c6ec46470ea253676d90f8cccf",
       "version_major": 2,
       "version_minor": 0
      },
      "text/plain": [
       "interactive(children=(FloatSlider(value=1.5707963267948966, description='kz', max=3.141592653589793, min=-3.14…"
      ]
     },
     "metadata": {},
     "output_type": "display_data"
    }
   ],
   "source": [
    "%matplotlib notebook\n",
    "\n",
    "res = 100\n",
    "t = 1\n",
    "g = 0\n",
    "mu = -4\n",
    "\n",
    "kxs = np.linspace(-np.pi,np.pi,num=res)\n",
    "Gs = np.zeros(res)\n",
    "\n",
    "@interact(kz=(-np.pi,np.pi,0.01),r=(0,3,0.1))\n",
    "def AnalyticalConductancePlot(kz=np.pi/2,r=1):\n",
    "    # compute conductance\n",
    "    Gs = wc.AnalyticalConductance(kxs,kz,t,g,mu,r)\n",
    "    # plot\n",
    "    plt.figure()\n",
    "    plt.plot(kxs,Gs,c='k')\n",
    "    plt.ylabel(r\"$G$\")\n",
    "    plt.xlabel(r\"$k_x$\")\n",
    "    plt.xlim(-np.pi,np.pi)\n",
    "#     plt.ylim(-10,10)\n",
    "    plt.show()"
   ]
  },
  {
   "cell_type": "markdown",
   "metadata": {},
   "source": [
    "For $V<0$, only the second term in $I_{\\sigma}$ contributes."
   ]
  },
  {
   "cell_type": "code",
   "execution_count": null,
   "metadata": {},
   "outputs": [],
   "source": []
  }
 ],
 "metadata": {
  "kernelspec": {
   "display_name": "Python 3",
   "language": "python",
   "name": "python3"
  },
  "language_info": {
   "codemirror_mode": {
    "name": "ipython",
    "version": 3
   },
   "file_extension": ".py",
   "mimetype": "text/x-python",
   "name": "python",
   "nbconvert_exporter": "python",
   "pygments_lexer": "ipython3",
   "version": "3.8.5"
  },
  "latex_envs": {
   "LaTeX_envs_menu_present": true,
   "autoclose": false,
   "autocomplete": true,
   "bibliofile": "biblio.bib",
   "cite_by": "apalike",
   "current_citInitial": 1,
   "eqLabelWithNumbers": true,
   "eqNumInitial": 1,
   "hotkeys": {
    "equation": "Ctrl-E",
    "itemize": "Ctrl-I"
   },
   "labels_anchors": false,
   "latex_user_defs": false,
   "report_style_numbering": false,
   "user_envs_cfg": false
  }
 },
 "nbformat": 4,
 "nbformat_minor": 4
}
